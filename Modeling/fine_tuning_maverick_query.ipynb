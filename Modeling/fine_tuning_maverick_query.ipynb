{
  "cells": [
    {
      "attachments": {},
      "cell_type": "markdown",
      "metadata": {},
      "source": [
        "# Hiblu: GPT LLM Fine-Tuning Query"
      ]
    },
    {
      "cell_type": "markdown",
      "metadata": {},
      "source": [
        "<center><img src=\"https://imgtr.ee/images/2024/07/11/da26d77b15aa64e787c98038c1e6da32.png\" alt=\"da26d77b15aa64e787c98038c1e6da32.png\" border=\"0\" /></center>"
      ]
    },
    {
      "attachments": {},
      "cell_type": "markdown",
      "metadata": {},
      "source": [
        "# Introduction\n",
        "\n",
        "`fine-tuning` LLM model with pretrain GPT mode to create chatbot for Customer Service division to answer all question related to Blu digital banking services."
      ]
    },
    {
      "attachments": {},
      "cell_type": "markdown",
      "metadata": {},
      "source": [
        "# Install Libraries"
      ]
    },
    {
      "cell_type": "code",
      "execution_count": null,
      "metadata": {
        "colab": {
          "base_uri": "https://localhost:8080/"
        },
        "id": "SVoU7VrzGzxn",
        "outputId": "ca0bad5f-18be-44e6-ed3c-3e90f4fd5fb9"
      },
      "outputs": [
        {
          "name": "stdout",
          "output_type": "stream",
          "text": [
            "Requirement already satisfied: openai==0.28 in /usr/local/lib/python3.10/dist-packages (0.28.0)\n",
            "Requirement already satisfied: requests>=2.20 in /usr/local/lib/python3.10/dist-packages (from openai==0.28) (2.31.0)\n",
            "Requirement already satisfied: tqdm in /usr/local/lib/python3.10/dist-packages (from openai==0.28) (4.66.4)\n",
            "Requirement already satisfied: aiohttp in /usr/local/lib/python3.10/dist-packages (from openai==0.28) (3.9.5)\n",
            "Requirement already satisfied: charset-normalizer<4,>=2 in /usr/local/lib/python3.10/dist-packages (from requests>=2.20->openai==0.28) (3.3.2)\n",
            "Requirement already satisfied: idna<4,>=2.5 in /usr/local/lib/python3.10/dist-packages (from requests>=2.20->openai==0.28) (3.7)\n",
            "Requirement already satisfied: urllib3<3,>=1.21.1 in /usr/local/lib/python3.10/dist-packages (from requests>=2.20->openai==0.28) (2.0.7)\n",
            "Requirement already satisfied: certifi>=2017.4.17 in /usr/local/lib/python3.10/dist-packages (from requests>=2.20->openai==0.28) (2024.6.2)\n",
            "Requirement already satisfied: aiosignal>=1.1.2 in /usr/local/lib/python3.10/dist-packages (from aiohttp->openai==0.28) (1.3.1)\n",
            "Requirement already satisfied: attrs>=17.3.0 in /usr/local/lib/python3.10/dist-packages (from aiohttp->openai==0.28) (23.2.0)\n",
            "Requirement already satisfied: frozenlist>=1.1.1 in /usr/local/lib/python3.10/dist-packages (from aiohttp->openai==0.28) (1.4.1)\n",
            "Requirement already satisfied: multidict<7.0,>=4.5 in /usr/local/lib/python3.10/dist-packages (from aiohttp->openai==0.28) (6.0.5)\n",
            "Requirement already satisfied: yarl<2.0,>=1.0 in /usr/local/lib/python3.10/dist-packages (from aiohttp->openai==0.28) (1.9.4)\n",
            "Requirement already satisfied: async-timeout<5.0,>=4.0 in /usr/local/lib/python3.10/dist-packages (from aiohttp->openai==0.28) (4.0.3)\n",
            "Requirement already satisfied: numpy in /usr/local/lib/python3.10/dist-packages (1.25.2)\n",
            "Requirement already satisfied: tiktoken in /usr/local/lib/python3.10/dist-packages (0.7.0)\n",
            "Requirement already satisfied: regex>=2022.1.18 in /usr/local/lib/python3.10/dist-packages (from tiktoken) (2024.5.15)\n",
            "Requirement already satisfied: requests>=2.26.0 in /usr/local/lib/python3.10/dist-packages (from tiktoken) (2.31.0)\n",
            "Requirement already satisfied: charset-normalizer<4,>=2 in /usr/local/lib/python3.10/dist-packages (from requests>=2.26.0->tiktoken) (3.3.2)\n",
            "Requirement already satisfied: idna<4,>=2.5 in /usr/local/lib/python3.10/dist-packages (from requests>=2.26.0->tiktoken) (3.7)\n",
            "Requirement already satisfied: urllib3<3,>=1.21.1 in /usr/local/lib/python3.10/dist-packages (from requests>=2.26.0->tiktoken) (2.0.7)\n",
            "Requirement already satisfied: certifi>=2017.4.17 in /usr/local/lib/python3.10/dist-packages (from requests>=2.26.0->tiktoken) (2024.6.2)\n"
          ]
        }
      ],
      "source": [
        "!pip install openai==0.28\n",
        "!pip install numpy\n",
        "!pip install tiktoken"
      ]
    },
    {
      "cell_type": "code",
      "execution_count": null,
      "metadata": {
        "colab": {
          "base_uri": "https://localhost:8080/"
        },
        "id": "MjIl2hI8rBuo",
        "outputId": "f10deca3-b7ff-43af-abbc-3f101593c871"
      },
      "outputs": [
        {
          "name": "stdout",
          "output_type": "stream",
          "text": [
            "Drive already mounted at /content/drive; to attempt to forcibly remount, call drive.mount(\"/content/drive\", force_remount=True).\n"
          ]
        }
      ],
      "source": [
        "from google.colab import drive\n",
        "drive.mount('/content/drive')"
      ]
    },
    {
      "cell_type": "markdown",
      "metadata": {
        "id": "5ubkKcaRceK9"
      },
      "source": [
        "# Library"
      ]
    },
    {
      "cell_type": "code",
      "execution_count": null,
      "metadata": {
        "id": "WysuPFYQHfCq"
      },
      "outputs": [],
      "source": [
        "import openai\n",
        "import csv\n",
        "import json\n",
        "import os\n",
        "import numpy as np\n",
        "from collections import defaultdict\n",
        "import tiktoken\n",
        "import pandas as pd\n",
        "from pathlib import Path"
      ]
    },
    {
      "cell_type": "code",
      "execution_count": null,
      "metadata": {
        "id": "_ofhSD5BII1W"
      },
      "outputs": [],
      "source": [
        "openai.api_key = \"Your key\""
      ]
    },
    {
      "attachments": {},
      "cell_type": "markdown",
      "metadata": {},
      "source": [
        "# Load Data"
      ]
    },
    {
      "attachments": {},
      "cell_type": "markdown",
      "metadata": {},
      "source": [
        "The data contains FAQs about Blu, consisting of 500 rows with 2 columns containing descriptions of questions and answers. This data will later be converted into JSON format and then trained on GPT."
      ]
    },
    {
      "cell_type": "code",
      "execution_count": null,
      "metadata": {
        "colab": {
          "base_uri": "https://localhost:8080/",
          "height": 206
        },
        "id": "0hKlGBt8uQue",
        "outputId": "e889c0ba-3ec5-43bf-fc57-bd4f4834703c"
      },
      "outputs": [
        {
          "data": {
            "application/vnd.google.colaboratory.intrinsic+json": {
              "summary": "{\n  \"name\": \"df\",\n  \"rows\": 500,\n  \"fields\": [\n    {\n      \"column\": \"Question\",\n      \"properties\": {\n        \"dtype\": \"string\",\n        \"num_unique_values\": 462,\n        \"samples\": [\n          \"Saya lupa PIN transaksi akun Bimapay x blu, apa yang harus saya lakukan\",\n          \"Bagaimana blu mengamankan data dan transaksi saya?\",\n          \"Bagaimana cara menutup bluAccount saya?\"\n        ],\n        \"semantic_type\": \"\",\n        \"description\": \"\"\n      }\n    },\n    {\n      \"column\": \"Answer\",\n      \"properties\": {\n        \"dtype\": \"string\",\n        \"num_unique_values\": 465,\n        \"samples\": [\n          \"Kamu bisa memindahkan dana dari bluAccont ke bluGether dan sebaliknya jika kamu adalah Creator bluGether. Hanya Creator yang bisa memindahkan dana dari bluGether ke bluAccount.\",\n          \"Setelah proses pembukaan rekening selesai dan rekeningmu sudah aktif, kamu bisa menentukan nomor rekening dengan memilih salah satu dari pilihan ini: Pilih nomor rekening sendiri. Jika kamu punya nomor favorit tertentu, kamu bisa menjadikannya sebagai 8 digit terakhir dari total 12 digit nomor rekening cantik blu kamu. Pemilihan nomor rekening sendiri ini akan dikenakan biaya Rp100 ribu. Nomor rekening dipilihkan oleh blu. Kalau memilih ini, kamu akan mendapatkan 12 digit nomor rekening secara acak.\",\n          \"Jika handphone kamu hilang, ini yang harus kamu lakukan: 1. Kamu harus segera menghubungi haloblu di 1500668 untuk melakukan pemblokiran rekening. 2. Masuk ke aplikasi blu melalui handphone baru. 3. Masukkan nomor handphone lama. 4. Masukkan kode OTP. 5. Masukkan password + lakukan proses pengenalan wajah untuk pembukaan blokir dan masuk ke dalam aplikasi. 6. Segera ubah password kamu untuk langkah pengamanan tambahan.\"\n        ],\n        \"semantic_type\": \"\",\n        \"description\": \"\"\n      }\n    }\n  ]\n}",
              "type": "dataframe",
              "variable_name": "df"
            },
            "text/html": [
              "\n",
              "  <div id=\"df-afcce9dd-355b-4707-9730-421b1c51ce83\" class=\"colab-df-container\">\n",
              "    <div>\n",
              "<style scoped>\n",
              "    .dataframe tbody tr th:only-of-type {\n",
              "        vertical-align: middle;\n",
              "    }\n",
              "\n",
              "    .dataframe tbody tr th {\n",
              "        vertical-align: top;\n",
              "    }\n",
              "\n",
              "    .dataframe thead th {\n",
              "        text-align: right;\n",
              "    }\n",
              "</style>\n",
              "<table border=\"1\" class=\"dataframe\">\n",
              "  <thead>\n",
              "    <tr style=\"text-align: right;\">\n",
              "      <th></th>\n",
              "      <th>Question</th>\n",
              "      <th>Answer</th>\n",
              "    </tr>\n",
              "  </thead>\n",
              "  <tbody>\n",
              "    <tr>\n",
              "      <th>0</th>\n",
              "      <td>Apa itu blu?</td>\n",
              "      <td>blu merupakan aplikasi mobile banking dari BCA...</td>\n",
              "    </tr>\n",
              "    <tr>\n",
              "      <th>1</th>\n",
              "      <td>Apa perbedaan blu dengan BCA Digital?</td>\n",
              "      <td>blu adalah aplikasi mobile banking milik BCA D...</td>\n",
              "    </tr>\n",
              "    <tr>\n",
              "      <th>2</th>\n",
              "      <td>Apa perbedaan BCA Digital dengan BCA?</td>\n",
              "      <td>BCA Digital merupakan anak perusahaan BCA, bag...</td>\n",
              "    </tr>\n",
              "    <tr>\n",
              "      <th>3</th>\n",
              "      <td>Apa keuntungan pakai aplikasi blu?</td>\n",
              "      <td>Gak terbatas ruang dan waktu, aplikasi blu bis...</td>\n",
              "    </tr>\n",
              "    <tr>\n",
              "      <th>4</th>\n",
              "      <td>Apakah blu punya kantor cabang offline?</td>\n",
              "      <td>blu gak punya kantor cabang offline, tapi tena...</td>\n",
              "    </tr>\n",
              "  </tbody>\n",
              "</table>\n",
              "</div>\n",
              "    <div class=\"colab-df-buttons\">\n",
              "\n",
              "  <div class=\"colab-df-container\">\n",
              "    <button class=\"colab-df-convert\" onclick=\"convertToInteractive('df-afcce9dd-355b-4707-9730-421b1c51ce83')\"\n",
              "            title=\"Convert this dataframe to an interactive table.\"\n",
              "            style=\"display:none;\">\n",
              "\n",
              "  <svg xmlns=\"http://www.w3.org/2000/svg\" height=\"24px\" viewBox=\"0 -960 960 960\">\n",
              "    <path d=\"M120-120v-720h720v720H120Zm60-500h600v-160H180v160Zm220 220h160v-160H400v160Zm0 220h160v-160H400v160ZM180-400h160v-160H180v160Zm440 0h160v-160H620v160ZM180-180h160v-160H180v160Zm440 0h160v-160H620v160Z\"/>\n",
              "  </svg>\n",
              "    </button>\n",
              "\n",
              "  <style>\n",
              "    .colab-df-container {\n",
              "      display:flex;\n",
              "      gap: 12px;\n",
              "    }\n",
              "\n",
              "    .colab-df-convert {\n",
              "      background-color: #E8F0FE;\n",
              "      border: none;\n",
              "      border-radius: 50%;\n",
              "      cursor: pointer;\n",
              "      display: none;\n",
              "      fill: #1967D2;\n",
              "      height: 32px;\n",
              "      padding: 0 0 0 0;\n",
              "      width: 32px;\n",
              "    }\n",
              "\n",
              "    .colab-df-convert:hover {\n",
              "      background-color: #E2EBFA;\n",
              "      box-shadow: 0px 1px 2px rgba(60, 64, 67, 0.3), 0px 1px 3px 1px rgba(60, 64, 67, 0.15);\n",
              "      fill: #174EA6;\n",
              "    }\n",
              "\n",
              "    .colab-df-buttons div {\n",
              "      margin-bottom: 4px;\n",
              "    }\n",
              "\n",
              "    [theme=dark] .colab-df-convert {\n",
              "      background-color: #3B4455;\n",
              "      fill: #D2E3FC;\n",
              "    }\n",
              "\n",
              "    [theme=dark] .colab-df-convert:hover {\n",
              "      background-color: #434B5C;\n",
              "      box-shadow: 0px 1px 3px 1px rgba(0, 0, 0, 0.15);\n",
              "      filter: drop-shadow(0px 1px 2px rgba(0, 0, 0, 0.3));\n",
              "      fill: #FFFFFF;\n",
              "    }\n",
              "  </style>\n",
              "\n",
              "    <script>\n",
              "      const buttonEl =\n",
              "        document.querySelector('#df-afcce9dd-355b-4707-9730-421b1c51ce83 button.colab-df-convert');\n",
              "      buttonEl.style.display =\n",
              "        google.colab.kernel.accessAllowed ? 'block' : 'none';\n",
              "\n",
              "      async function convertToInteractive(key) {\n",
              "        const element = document.querySelector('#df-afcce9dd-355b-4707-9730-421b1c51ce83');\n",
              "        const dataTable =\n",
              "          await google.colab.kernel.invokeFunction('convertToInteractive',\n",
              "                                                    [key], {});\n",
              "        if (!dataTable) return;\n",
              "\n",
              "        const docLinkHtml = 'Like what you see? Visit the ' +\n",
              "          '<a target=\"_blank\" href=https://colab.research.google.com/notebooks/data_table.ipynb>data table notebook</a>'\n",
              "          + ' to learn more about interactive tables.';\n",
              "        element.innerHTML = '';\n",
              "        dataTable['output_type'] = 'display_data';\n",
              "        await google.colab.output.renderOutput(dataTable, element);\n",
              "        const docLink = document.createElement('div');\n",
              "        docLink.innerHTML = docLinkHtml;\n",
              "        element.appendChild(docLink);\n",
              "      }\n",
              "    </script>\n",
              "  </div>\n",
              "\n",
              "\n",
              "<div id=\"df-46b8ae83-5c91-478a-981d-1f7b8e532331\">\n",
              "  <button class=\"colab-df-quickchart\" onclick=\"quickchart('df-46b8ae83-5c91-478a-981d-1f7b8e532331')\"\n",
              "            title=\"Suggest charts\"\n",
              "            style=\"display:none;\">\n",
              "\n",
              "<svg xmlns=\"http://www.w3.org/2000/svg\" height=\"24px\"viewBox=\"0 0 24 24\"\n",
              "     width=\"24px\">\n",
              "    <g>\n",
              "        <path d=\"M19 3H5c-1.1 0-2 .9-2 2v14c0 1.1.9 2 2 2h14c1.1 0 2-.9 2-2V5c0-1.1-.9-2-2-2zM9 17H7v-7h2v7zm4 0h-2V7h2v10zm4 0h-2v-4h2v4z\"/>\n",
              "    </g>\n",
              "</svg>\n",
              "  </button>\n",
              "\n",
              "<style>\n",
              "  .colab-df-quickchart {\n",
              "      --bg-color: #E8F0FE;\n",
              "      --fill-color: #1967D2;\n",
              "      --hover-bg-color: #E2EBFA;\n",
              "      --hover-fill-color: #174EA6;\n",
              "      --disabled-fill-color: #AAA;\n",
              "      --disabled-bg-color: #DDD;\n",
              "  }\n",
              "\n",
              "  [theme=dark] .colab-df-quickchart {\n",
              "      --bg-color: #3B4455;\n",
              "      --fill-color: #D2E3FC;\n",
              "      --hover-bg-color: #434B5C;\n",
              "      --hover-fill-color: #FFFFFF;\n",
              "      --disabled-bg-color: #3B4455;\n",
              "      --disabled-fill-color: #666;\n",
              "  }\n",
              "\n",
              "  .colab-df-quickchart {\n",
              "    background-color: var(--bg-color);\n",
              "    border: none;\n",
              "    border-radius: 50%;\n",
              "    cursor: pointer;\n",
              "    display: none;\n",
              "    fill: var(--fill-color);\n",
              "    height: 32px;\n",
              "    padding: 0;\n",
              "    width: 32px;\n",
              "  }\n",
              "\n",
              "  .colab-df-quickchart:hover {\n",
              "    background-color: var(--hover-bg-color);\n",
              "    box-shadow: 0 1px 2px rgba(60, 64, 67, 0.3), 0 1px 3px 1px rgba(60, 64, 67, 0.15);\n",
              "    fill: var(--button-hover-fill-color);\n",
              "  }\n",
              "\n",
              "  .colab-df-quickchart-complete:disabled,\n",
              "  .colab-df-quickchart-complete:disabled:hover {\n",
              "    background-color: var(--disabled-bg-color);\n",
              "    fill: var(--disabled-fill-color);\n",
              "    box-shadow: none;\n",
              "  }\n",
              "\n",
              "  .colab-df-spinner {\n",
              "    border: 2px solid var(--fill-color);\n",
              "    border-color: transparent;\n",
              "    border-bottom-color: var(--fill-color);\n",
              "    animation:\n",
              "      spin 1s steps(1) infinite;\n",
              "  }\n",
              "\n",
              "  @keyframes spin {\n",
              "    0% {\n",
              "      border-color: transparent;\n",
              "      border-bottom-color: var(--fill-color);\n",
              "      border-left-color: var(--fill-color);\n",
              "    }\n",
              "    20% {\n",
              "      border-color: transparent;\n",
              "      border-left-color: var(--fill-color);\n",
              "      border-top-color: var(--fill-color);\n",
              "    }\n",
              "    30% {\n",
              "      border-color: transparent;\n",
              "      border-left-color: var(--fill-color);\n",
              "      border-top-color: var(--fill-color);\n",
              "      border-right-color: var(--fill-color);\n",
              "    }\n",
              "    40% {\n",
              "      border-color: transparent;\n",
              "      border-right-color: var(--fill-color);\n",
              "      border-top-color: var(--fill-color);\n",
              "    }\n",
              "    60% {\n",
              "      border-color: transparent;\n",
              "      border-right-color: var(--fill-color);\n",
              "    }\n",
              "    80% {\n",
              "      border-color: transparent;\n",
              "      border-right-color: var(--fill-color);\n",
              "      border-bottom-color: var(--fill-color);\n",
              "    }\n",
              "    90% {\n",
              "      border-color: transparent;\n",
              "      border-bottom-color: var(--fill-color);\n",
              "    }\n",
              "  }\n",
              "</style>\n",
              "\n",
              "  <script>\n",
              "    async function quickchart(key) {\n",
              "      const quickchartButtonEl =\n",
              "        document.querySelector('#' + key + ' button');\n",
              "      quickchartButtonEl.disabled = true;  // To prevent multiple clicks.\n",
              "      quickchartButtonEl.classList.add('colab-df-spinner');\n",
              "      try {\n",
              "        const charts = await google.colab.kernel.invokeFunction(\n",
              "            'suggestCharts', [key], {});\n",
              "      } catch (error) {\n",
              "        console.error('Error during call to suggestCharts:', error);\n",
              "      }\n",
              "      quickchartButtonEl.classList.remove('colab-df-spinner');\n",
              "      quickchartButtonEl.classList.add('colab-df-quickchart-complete');\n",
              "    }\n",
              "    (() => {\n",
              "      let quickchartButtonEl =\n",
              "        document.querySelector('#df-46b8ae83-5c91-478a-981d-1f7b8e532331 button');\n",
              "      quickchartButtonEl.style.display =\n",
              "        google.colab.kernel.accessAllowed ? 'block' : 'none';\n",
              "    })();\n",
              "  </script>\n",
              "</div>\n",
              "\n",
              "    </div>\n",
              "  </div>\n"
            ],
            "text/plain": [
              "                                  Question  \\\n",
              "0                             Apa itu blu?   \n",
              "1    Apa perbedaan blu dengan BCA Digital?   \n",
              "2    Apa perbedaan BCA Digital dengan BCA?   \n",
              "3       Apa keuntungan pakai aplikasi blu?   \n",
              "4  Apakah blu punya kantor cabang offline?   \n",
              "\n",
              "                                              Answer  \n",
              "0  blu merupakan aplikasi mobile banking dari BCA...  \n",
              "1  blu adalah aplikasi mobile banking milik BCA D...  \n",
              "2  BCA Digital merupakan anak perusahaan BCA, bag...  \n",
              "3  Gak terbatas ruang dan waktu, aplikasi blu bis...  \n",
              "4  blu gak punya kantor cabang offline, tapi tena...  "
            ]
          },
          "execution_count": 85,
          "metadata": {},
          "output_type": "execute_result"
        }
      ],
      "source": [
        "# Load CSV data in\n",
        "csv_file_path = '/content/drive/MyDrive/finpro/FAQ_cleaned_final.csv'\n",
        "df = pd.read_csv(csv_file_path)\n",
        "df.head()"
      ]
    },
    {
      "cell_type": "markdown",
      "metadata": {
        "id": "4k8SuS3xcpSu"
      },
      "source": [
        "# Change To JSON"
      ]
    },
    {
      "cell_type": "code",
      "execution_count": null,
      "metadata": {
        "colab": {
          "base_uri": "https://localhost:8080/"
        },
        "id": "CGPcB5G58V-d",
        "outputId": "35de135d-08a9-4c56-9974-ff4a5e087a5f"
      },
      "outputs": [
        {
          "name": "stdout",
          "output_type": "stream",
          "text": [
            "JSON file saved to: /content/drive/MyDrive/finpro/FAQ_cleaned-json.jsonl\n"
          ]
        }
      ],
      "source": [
        "# Define the system message\n",
        "system_message = {\"role\": \"system\", \"content\": \"Hi! HiBlu siap menjawab Pertanyaanmu!\"}\n",
        "\n",
        "# Initialize a list to hold all JSON objects\n",
        "json_data = []\n",
        "\n",
        "# Iterate over the rows of the dataframe\n",
        "for index, row in df.iterrows():\n",
        "    # Create the messages array for the current question-answer pair\n",
        "    messages = [\n",
        "        system_message,\n",
        "        {\"role\": \"user\", \"content\": row['Question']},\n",
        "        {\"role\": \"assistant\", \"content\": row['Answer']}\n",
        "    ]\n",
        "    # Append the JSON object to the list\n",
        "    json_data.append({\"messages\": messages})\n",
        "\n",
        "# Convert the list of JSON objects to a JSON string with each object on a new line\n",
        "json_output = \"\\n\".join(json.dumps(obj) for obj in json_data)\n",
        "\n",
        "jsonl_file_path = '/content/drive/MyDrive/finpro/FAQ_cleaned-json.jsonl'\n",
        "# Save the JSON output to a file\n",
        "output_path = jsonl_file_path\n",
        "with open(output_path, 'w',encoding='utf-8') as jsonl_file:\n",
        "    jsonl_file.write(json_output)\n",
        "\n",
        "print(f\"JSON file saved to: {output_path}\")"
      ]
    },
    {
      "cell_type": "code",
      "execution_count": null,
      "metadata": {
        "colab": {
          "base_uri": "https://localhost:8080/"
        },
        "id": "6pehCiR9Jbl3",
        "outputId": "92c08fcd-8c81-45bc-a77b-f8a7b23fe5f6"
      },
      "outputs": [
        {
          "name": "stdout",
          "output_type": "stream",
          "text": [
            "Num examples: 500\n",
            "First example:\n",
            "{'role': 'system', 'content': 'Hi! HiBlu siap menjawab pertanyaanmu!'}\n",
            "{'role': 'user', 'content': 'Apa itu blu?'}\n",
            "{'role': 'assistant', 'content': 'blu merupakan aplikasi mobile banking dari BCA Digital yang didesain dan dikembangkan untuk memberikan kemudahan untukmu agar bisa melakukan transaksi finansial dan non finansial melalui handphone.'}\n"
          ]
        }
      ],
      "source": [
        "data_path = '/content/drive/MyDrive/finpro/FAQ_cleaned-json.jsonl'\n",
        "\n",
        "# Load dataset\n",
        "with open(data_path) as f:\n",
        "    dataset = [json.loads(line) for line in f]\n",
        "\n",
        "# Initial dataset stats\n",
        "print(\"Num examples:\", len(dataset))\n",
        "print(\"First example:\")\n",
        "for message in dataset[0][\"messages\"]:\n",
        "    print(message)"
      ]
    },
    {
      "cell_type": "markdown",
      "metadata": {
        "id": "-kUZqDdxdzV8"
      },
      "source": [
        "# Check Json Format"
      ]
    },
    {
      "cell_type": "code",
      "execution_count": null,
      "metadata": {
        "colab": {
          "base_uri": "https://localhost:8080/"
        },
        "id": "shoTn6B6J0N-",
        "outputId": "5c0f3a22-546e-4c82-8661-8004385273f7"
      },
      "outputs": [
        {
          "name": "stdout",
          "output_type": "stream",
          "text": [
            "No errors found\n"
          ]
        }
      ],
      "source": [
        "# Format error checks\n",
        "format_errors = defaultdict(int)\n",
        "\n",
        "for ex in dataset:\n",
        "    if not isinstance(ex, dict):\n",
        "        format_errors[\"data_type\"] += 1\n",
        "        continue\n",
        "\n",
        "    messages = ex.get(\"messages\", None)\n",
        "    if not messages:\n",
        "        format_errors[\"missing_messages_list\"] += 1\n",
        "        continue\n",
        "\n",
        "    for message in messages:\n",
        "        if \"role\" not in message or \"content\" not in message:\n",
        "            format_errors[\"message_missing_key\"] += 1\n",
        "\n",
        "        if any(k not in (\"role\", \"content\", \"name\") for k in message):\n",
        "            format_errors[\"message_unrecognized_key\"] += 1\n",
        "\n",
        "        if message.get(\"role\", None) not in (\"system\", \"user\", \"assistant\"):\n",
        "            format_errors[\"unrecognized_role\"] += 1\n",
        "\n",
        "        content = message.get(\"content\", None)\n",
        "        if not content or not isinstance(content, str):\n",
        "            format_errors[\"missing_content\"] += 1\n",
        "\n",
        "    if not any(message.get(\"role\", None) == \"assistant\" for message in messages):\n",
        "        format_errors[\"example_missing_assistant_message\"] += 1\n",
        "\n",
        "if format_errors:\n",
        "    print(\"Found errors:\")\n",
        "    for k, v in format_errors.items():\n",
        "        print(f\"{k}: {v}\")\n",
        "else:\n",
        "    print(\"No errors found\")"
      ]
    },
    {
      "cell_type": "markdown",
      "metadata": {
        "id": "_2u1f1vNd89z"
      },
      "source": [
        "# Calculate Token Price"
      ]
    },
    {
      "cell_type": "code",
      "execution_count": null,
      "metadata": {
        "id": "X0lI9yqGJ78O"
      },
      "outputs": [],
      "source": [
        "# Token counting functions\n",
        "encoding = tiktoken.get_encoding(\"cl100k_base\")\n",
        "\n",
        "# not exact!\n",
        "# simplified from https://github.com/openai/openai-cookbook/blob/main/examples/How_to_count_tokens_with_tiktoken.ipynb\n",
        "def num_tokens_from_messages(messages, tokens_per_message=3, tokens_per_name=1):\n",
        "    num_tokens = 0\n",
        "    for message in messages:\n",
        "        num_tokens += tokens_per_message\n",
        "        for key, value in message.items():\n",
        "            num_tokens += len(encoding.encode(value))\n",
        "            if key == \"name\":\n",
        "                num_tokens += tokens_per_name\n",
        "    num_tokens += 3\n",
        "    return num_tokens\n",
        "\n",
        "def num_assistant_tokens_from_messages(messages):\n",
        "    num_tokens = 0\n",
        "    for message in messages:\n",
        "        if message[\"role\"] == \"assistant\":\n",
        "            num_tokens += len(encoding.encode(message[\"content\"]))\n",
        "    return num_tokens\n",
        "\n",
        "def print_distribution(values, name):\n",
        "    print(f\"\\n#### Distribution of {name}:\")\n",
        "    print(f\"min / max: {min(values)}, {max(values)}\")\n",
        "    print(f\"mean / median: {np.mean(values)}, {np.median(values)}\")\n",
        "    print(f\"p5 / p95: {np.quantile(values, 0.1)}, {np.quantile(values, 0.9)}\")"
      ]
    },
    {
      "cell_type": "code",
      "execution_count": null,
      "metadata": {
        "colab": {
          "base_uri": "https://localhost:8080/"
        },
        "id": "D6txAvZGKBWH",
        "outputId": "51dcc166-8bad-45ac-a852-5cd3430fda4e"
      },
      "outputs": [
        {
          "name": "stdout",
          "output_type": "stream",
          "text": [
            "Num examples missing system message: 0\n",
            "Num examples missing user message: 0\n",
            "\n",
            "#### Distribution of num_messages_per_example:\n",
            "min / max: 3, 3\n",
            "mean / median: 3.0, 3.0\n",
            "p5 / p95: 3.0, 3.0\n",
            "\n",
            "#### Distribution of num_total_tokens_per_example:\n",
            "min / max: 55, 395\n",
            "mean / median: 121.78, 105.0\n",
            "p5 / p95: 71.0, 190.10000000000002\n",
            "\n",
            "#### Distribution of num_assistant_tokens_per_example:\n",
            "min / max: 12, 354\n",
            "mean / median: 73.572, 55.5\n",
            "p5 / p95: 24.900000000000006, 145.0\n",
            "\n",
            "0 examples may be over the 4096 token limit, they will be truncated during fine-tuning\n"
          ]
        }
      ],
      "source": [
        "# Last, we can look at the results of the different formatting operations before proceeding with creating a fine-tuning job:\n",
        "\n",
        "# Warnings and tokens counts\n",
        "n_missing_system = 0\n",
        "n_missing_user = 0\n",
        "n_messages = []\n",
        "convo_lens = []\n",
        "assistant_message_lens = []\n",
        "\n",
        "for ex in dataset:\n",
        "    messages = ex[\"messages\"]\n",
        "    if not any(message[\"role\"] == \"system\" for message in messages):\n",
        "        n_missing_system += 1\n",
        "    if not any(message[\"role\"] == \"user\" for message in messages):\n",
        "        n_missing_user += 1\n",
        "    n_messages.append(len(messages))\n",
        "    convo_lens.append(num_tokens_from_messages(messages))\n",
        "    assistant_message_lens.append(num_assistant_tokens_from_messages(messages))\n",
        "\n",
        "print(\"Num examples missing system message:\", n_missing_system)\n",
        "print(\"Num examples missing user message:\", n_missing_user)\n",
        "print_distribution(n_messages, \"num_messages_per_example\")\n",
        "print_distribution(convo_lens, \"num_total_tokens_per_example\")\n",
        "print_distribution(assistant_message_lens, \"num_assistant_tokens_per_example\")\n",
        "n_too_long = sum(l > 4096 for l in convo_lens)\n",
        "print(f\"\\n{n_too_long} examples may be over the 4096 token limit, they will be truncated during fine-tuning\")"
      ]
    },
    {
      "cell_type": "code",
      "execution_count": null,
      "metadata": {
        "colab": {
          "base_uri": "https://localhost:8080/"
        },
        "id": "nlGw3-_bKSKe",
        "outputId": "3a75fa00-07f3-4e41-c564-fbf7331a396e"
      },
      "outputs": [
        {
          "name": "stdout",
          "output_type": "stream",
          "text": [
            "Dataset has ~60890 tokens that will be charged for during training\n",
            "By default, you'll train for 3 epochs on this dataset\n",
            "By default, you'll be charged for ~182670 tokens\n"
          ]
        }
      ],
      "source": [
        "# Pricing and default n_epochs estimate\n",
        "MAX_TOKENS_PER_EXAMPLE = 4096\n",
        "\n",
        "MIN_TARGET_EXAMPLES = 100\n",
        "MAX_TARGET_EXAMPLES = 25000\n",
        "TARGET_EPOCHS = 3\n",
        "MIN_EPOCHS = 1\n",
        "MAX_EPOCHS = 25\n",
        "\n",
        "n_epochs = TARGET_EPOCHS\n",
        "n_train_examples = len(dataset)\n",
        "if n_train_examples * TARGET_EPOCHS < MIN_TARGET_EXAMPLES:\n",
        "    n_epochs = min(MAX_EPOCHS, MIN_TARGET_EXAMPLES // n_train_examples)\n",
        "elif n_train_examples * TARGET_EPOCHS > MAX_TARGET_EXAMPLES:\n",
        "    n_epochs = max(MIN_EPOCHS, MAX_TARGET_EXAMPLES // n_train_examples)\n",
        "\n",
        "n_billing_tokens_in_dataset = sum(min(MAX_TOKENS_PER_EXAMPLE, length) for length in convo_lens)\n",
        "print(f\"Dataset has ~{n_billing_tokens_in_dataset} tokens that will be charged for during training\")\n",
        "print(f\"By default, you'll train for {n_epochs} epochs on this dataset\")\n",
        "print(f\"By default, you'll be charged for ~{n_epochs * n_billing_tokens_in_dataset} tokens\")"
      ]
    },
    {
      "cell_type": "code",
      "execution_count": null,
      "metadata": {
        "id": "C7Ufl8wqK3kF"
      },
      "outputs": [],
      "source": [
        "# Pricing and default n_epochs estimate\n",
        "MAX_TOKENS_PER_EXAMPLE = 4096\n",
        "\n",
        "MIN_TARGET_EXAMPLES = 100\n",
        "MAX_TARGET_EXAMPLES = 25000\n",
        "TARGET_EPOCHS = 3\n",
        "MIN_EPOCHS = 1\n",
        "MAX_EPOCHS = 25\n",
        "\n",
        "n_epochs = TARGET_EPOCHS\n",
        "n_train_examples = len(dataset)\n",
        "if n_train_examples * TARGET_EPOCHS < MIN_TARGET_EXAMPLES:\n",
        "    n_epochs = min(MAX_EPOCHS, MIN_TARGET_EXAMPLES // n_train_examples)\n",
        "elif n_train_examples * TARGET_EPOCHS > MAX_TARGET_EXAMPLES:\n",
        "    n_epochs = max(MIN_EPOCHS, MAX_TARGET_EXAMPLES // n_train_examples)"
      ]
    },
    {
      "cell_type": "code",
      "execution_count": null,
      "metadata": {
        "colab": {
          "base_uri": "https://localhost:8080/"
        },
        "id": "j5tcfYZ6KNPd",
        "outputId": "6c9506b4-8466-4e50-bf13-20eefef7e66b"
      },
      "outputs": [
        {
          "name": "stdout",
          "output_type": "stream",
          "text": [
            "Estimated cost for fine-tuning: approximately $1.46\n"
          ]
        }
      ],
      "source": [
        "# Calculate the estimated cost for fine-tuning\n",
        "cost_per_100k_tokens = 0.80  # Cost for every 100,000 tokens\n",
        "estimated_cost = ((n_epochs * n_billing_tokens_in_dataset) / 100000) * cost_per_100k_tokens\n",
        "print(f\"Estimated cost for fine-tuning: approximately ${estimated_cost:.2f}\") #I added this for actual cost based on current pricing"
      ]
    },
    {
      "cell_type": "markdown",
      "metadata": {
        "id": "ZiOJZJGNgHM0"
      },
      "source": [
        "# Change Data Format"
      ]
    },
    {
      "cell_type": "code",
      "execution_count": null,
      "metadata": {
        "id": "GME1BGqXNGMQ"
      },
      "outputs": [],
      "source": [
        "# Function to save the dataset as a JSONL file\n",
        "def save_to_jsonl(conversations, file_path):\n",
        "    with open(file_path, 'w') as file:\n",
        "        for conversation in conversations:\n",
        "            json_line = json.dumps(conversation)\n",
        "            file.write(json_line + '\\n')\n",
        "\n",
        "# Specify the path where you want to save the JSONL file in your Google Drive\n",
        "jsonl_file_path = '/content/drive/MyDrive/finpro/FAQ_cleaned-json-clean.jsonl'\n",
        "# Save the dataset to the specified file path\n",
        "save_to_jsonl(dataset, jsonl_file_path)"
      ]
    },
    {
      "cell_type": "markdown",
      "metadata": {
        "id": "gzMPYjfIgVqc"
      },
      "source": [
        "# Upload Data To GPT"
      ]
    },
    {
      "cell_type": "code",
      "execution_count": null,
      "metadata": {
        "colab": {
          "base_uri": "https://localhost:8080/"
        },
        "id": "d403QpVVN3BU",
        "outputId": "9aeb630c-0531-45f8-9157-7a45e16cc5b9"
      },
      "outputs": [
        {
          "name": "stdout",
          "output_type": "stream",
          "text": [
            "Training file id: file-at34w6BfH4AyQ895QwZ4Gq1d\n"
          ]
        }
      ],
      "source": [
        "# Upload data for training\n",
        "training_file_name = '/content/drive/MyDrive/finpro/FAQ_cleaned-json-clean.jsonl'\n",
        "\n",
        "training_response = openai.File.create(\n",
        "    file=open(training_file_name, \"rb\"), purpose=\"fine-tune\"\n",
        ")\n",
        "training_file_id = training_response[\"id\"]\n",
        "\n",
        "# Gives training file id\n",
        "print(\"Training file id:\", training_file_id)"
      ]
    },
    {
      "cell_type": "markdown",
      "metadata": {
        "id": "vM-NJm6ggoTU"
      },
      "source": [
        "# Create Fine Tuning \"Job\""
      ]
    },
    {
      "cell_type": "code",
      "execution_count": null,
      "metadata": {
        "colab": {
          "base_uri": "https://localhost:8080/"
        },
        "id": "SlZEZYGTOY-L",
        "outputId": "cd6273d1-355c-4e02-94d9-7e8abcd6c6b3"
      },
      "outputs": [
        {
          "name": "stdout",
          "output_type": "stream",
          "text": [
            "{\n",
            "  \"object\": \"fine_tuning.job\",\n",
            "  \"id\": \"ftjob-eqe41WYEtOIrIEL8B5IGC6NV\",\n",
            "  \"model\": \"gpt-3.5-turbo-0125\",\n",
            "  \"created_at\": 1720088025,\n",
            "  \"finished_at\": null,\n",
            "  \"fine_tuned_model\": null,\n",
            "  \"organization_id\": \"org-qye3BPz1mQfFglLyFLqIGIgJ\",\n",
            "  \"result_files\": [],\n",
            "  \"status\": \"validating_files\",\n",
            "  \"validation_file\": null,\n",
            "  \"training_file\": \"file-at34w6BfH4AyQ895QwZ4Gq1d\",\n",
            "  \"hyperparameters\": {\n",
            "    \"n_epochs\": 3,\n",
            "    \"batch_size\": 32,\n",
            "    \"learning_rate_multiplier\": 0.1\n",
            "  },\n",
            "  \"trained_tokens\": null,\n",
            "  \"error\": {},\n",
            "  \"user_provided_suffix\": \"bluebca-bot\",\n",
            "  \"seed\": 154897632,\n",
            "  \"estimated_finish\": null,\n",
            "  \"integrations\": []\n",
            "}\n"
          ]
        }
      ],
      "source": [
        "# Create Fine-Tuning Job\n",
        "suffix_name = \"bluebca-bot\"\n",
        "\n",
        "response = openai.FineTuningJob.create(\n",
        "    training_file=training_file_id,\n",
        "    model=\"gpt-3.5-turbo\",\n",
        "    suffix=suffix_name,\n",
        "    hyperparameters={\n",
        "        \"n_epochs\": 3,  # Default: auto\n",
        "        \"batch_size\": 32,  # Default: auto\n",
        "        \"learning_rate_multiplier\": 0.1}  # Default: auto\n",
        ")\n",
        "\n",
        "job_id = response[\"id\"]\n",
        "\n",
        "print(response)"
      ]
    },
    {
      "cell_type": "markdown",
      "metadata": {
        "id": "NGFAEVL6dFyE"
      },
      "source": [
        "# Model Training"
      ]
    },
    {
      "cell_type": "code",
      "execution_count": 108,
      "metadata": {
        "colab": {
          "base_uri": "https://localhost:8080/"
        },
        "id": "1Xyzue2SPYaZ",
        "outputId": "3a6d9ec1-5d75-426d-fe9a-d81f07214fd2"
      },
      "outputs": [
        {
          "name": "stdout",
          "output_type": "stream",
          "text": [
            "Step 2/47: training loss=1.90\n",
            "Step 3/47: training loss=2.08\n",
            "Step 4/47: training loss=2.03\n",
            "Step 5/47: training loss=2.00\n",
            "Step 6/47: training loss=2.01\n",
            "Step 7/47: training loss=1.97\n",
            "Step 8/47: training loss=1.82\n",
            "Step 9/47: training loss=1.86\n",
            "Step 10/47: training loss=1.94\n",
            "Step 11/47: training loss=1.94\n",
            "Step 12/47: training loss=1.84\n",
            "Step 13/47: training loss=1.85\n",
            "Step 14/47: training loss=1.80\n",
            "Step 15/47: training loss=1.72\n",
            "Step 16/47: training loss=1.60\n",
            "Step 17/47: training loss=1.83\n",
            "Step 18/47: training loss=1.78\n",
            "Step 19/47: training loss=1.71\n",
            "Step 20/47: training loss=1.68\n",
            "Step 21/47: training loss=1.70\n",
            "Step 22/47: training loss=1.60\n",
            "Step 23/47: training loss=1.52\n",
            "Step 24/47: training loss=1.75\n",
            "Step 25/47: training loss=1.69\n",
            "Step 26/47: training loss=1.73\n",
            "Step 27/47: training loss=1.67\n",
            "Step 28/47: training loss=1.78\n",
            "Step 29/47: training loss=1.75\n",
            "Step 30/47: training loss=1.63\n",
            "Step 31/47: training loss=1.51\n",
            "Step 32/47: training loss=1.72\n",
            "Step 33/47: training loss=1.63\n",
            "Step 34/47: training loss=1.67\n",
            "Step 35/47: training loss=1.72\n",
            "Step 36/47: training loss=1.58\n",
            "Step 37/47: training loss=1.63\n",
            "Step 38/47: training loss=1.64\n",
            "Step 39/47: training loss=1.65\n",
            "Step 40/47: training loss=1.72\n",
            "Step 41/47: training loss=1.46\n",
            "Step 42/47: training loss=1.62\n",
            "Step 43/47: training loss=1.59\n",
            "Step 44/47: training loss=1.63\n",
            "Step 45/47: training loss=1.64\n",
            "Step 46/47: training loss=1.67\n",
            "Step 47/47: training loss=1.51\n",
            "Checkpoint created at step 30 with Snapshot ID: ft:gpt-3.5-turbo-0125:personal:bluebca-bot:9hDq8KiR:ckpt-step-30\n",
            "Checkpoint created at step 45 with Snapshot ID: ft:gpt-3.5-turbo-0125:personal:bluebca-bot:9hDq9NgV:ckpt-step-45\n",
            "New fine-tuned model created: ft:gpt-3.5-turbo-0125:personal:bluebca-bot:9hDq9HEK\n",
            "The job has successfully completed\n"
          ]
        }
      ],
      "source": [
        "# Lisst events as fine-tuning progresses\n",
        "response = openai.FineTuningJob.list_events(id=job_id, limit=50)\n",
        "\n",
        "events = response[\"data\"]\n",
        "events.reverse()\n",
        "\n",
        "for event in events:\n",
        "    print(event[\"message\"])"
      ]
    },
    {
      "cell_type": "code",
      "execution_count": 109,
      "metadata": {
        "colab": {
          "base_uri": "https://localhost:8080/"
        },
        "id": "QUgVjlQxUMhw",
        "outputId": "f4b8044f-4493-437d-aea5-5e75e82a34ac"
      },
      "outputs": [
        {
          "name": "stdout",
          "output_type": "stream",
          "text": [
            "{\n",
            "  \"object\": \"fine_tuning.job\",\n",
            "  \"id\": \"ftjob-eqe41WYEtOIrIEL8B5IGC6NV\",\n",
            "  \"model\": \"gpt-3.5-turbo-0125\",\n",
            "  \"created_at\": 1720088025,\n",
            "  \"finished_at\": 1720088332,\n",
            "  \"fine_tuned_model\": \"ft:gpt-3.5-turbo-0125:personal:bluebca-bot:9hDq9HEK\",\n",
            "  \"organization_id\": \"org-qye3BPz1mQfFglLyFLqIGIgJ\",\n",
            "  \"result_files\": [\n",
            "    \"file-H0kIptpGBnzY0aX4jFj3Q9rr\"\n",
            "  ],\n",
            "  \"status\": \"succeeded\",\n",
            "  \"validation_file\": null,\n",
            "  \"training_file\": \"file-at34w6BfH4AyQ895QwZ4Gq1d\",\n",
            "  \"hyperparameters\": {\n",
            "    \"n_epochs\": 3,\n",
            "    \"batch_size\": 32,\n",
            "    \"learning_rate_multiplier\": 0.1\n",
            "  },\n",
            "  \"trained_tokens\": 179670,\n",
            "  \"error\": {},\n",
            "  \"user_provided_suffix\": \"bluebca-bot\",\n",
            "  \"seed\": 154897632,\n",
            "  \"estimated_finish\": null,\n",
            "  \"integrations\": []\n",
            "}\n",
            "\n",
            "Fine-tuned model id: ft:gpt-3.5-turbo-0125:personal:bluebca-bot:9hDq9HEK\n"
          ]
        }
      ],
      "source": [
        "# Retrieve fine-tune model id\n",
        "response = openai.FineTuningJob.retrieve(job_id)\n",
        "fine_tuned_model_id = response[\"fine_tuned_model\"]\n",
        "\n",
        "print(response)\n",
        "print(\"\\nFine-tuned model id:\", fine_tuned_model_id)"
      ]
    },
    {
      "cell_type": "markdown",
      "metadata": {
        "id": "KzTbI9w8dBw8"
      },
      "source": [
        "# Model Evaluation"
      ]
    },
    {
      "attachments": {},
      "cell_type": "markdown",
      "metadata": {},
      "source": [
        "In this phase, the model that has been fine-tuned will be tested for its credibility by presenting it with both FAQ-related questions and questions outside of the FAQ to see if the model can answer user-input questions accurately."
      ]
    },
    {
      "attachments": {},
      "cell_type": "markdown",
      "metadata": {
        "id": "hAEnPgo9YAPc"
      },
      "source": [
        "#### FAQ Related Questions\n",
        "\n",
        "1. Apa itu blu?\n",
        "2. Apa saja fitur blu?\n",
        "3. Apa itu bluInvest?\n",
        "4. Apa platform investasi yang bekerja sama dengan bluInvest?\n",
        "5. Apa itu bluGether?\n",
        "6. Apakah blu punya fitur pinjaman?\n",
        "7. Bagaimana membuka rekening blu?\n",
        "8. Bagaimana jika lupa password blu?\n",
        "9. Apa itu bluGift?\n",
        "10. Dimana saya bisa setor tunai tanpa kartu?\n",
        "\n",
        "#### Non-related FAQ Questions\n",
        "\n",
        "1. Siapa CEO blu?\n",
        "2. Apa itu mobile legend?\n",
        "3. Siapa itu Jokowi?\n",
        "4. Kapan perang dunia 3?\n",
        "5. Berapa harga laptop ASUS ROG Zephyrus G14 2023?\n",
        "6. Apakah serial Game of Thrones endingnya bagus?\n",
        "7. Siapakah artis hollywood dengan pembayaran tertinggi?\n",
        "8. Bagaimana cara membuat kain batik?\n",
        "9. Dimana saya bisa membeli piring cantik murah?\n",
        "10. Berapa gaji data scientist?"
      ]
    },
    {
      "cell_type": "markdown",
      "metadata": {},
      "source": [
        "## FAQ Related Questions"
      ]
    },
    {
      "attachments": {},
      "cell_type": "markdown",
      "metadata": {
        "id": "UuyvfgBjhVRT"
      },
      "source": [
        "### Question 1"
      ]
    },
    {
      "cell_type": "code",
      "execution_count": 132,
      "metadata": {
        "colab": {
          "base_uri": "https://localhost:8080/"
        },
        "id": "8L7IEZScVi62",
        "outputId": "c0f1ccf4-1c42-4f7a-e610-310b175bcc21"
      },
      "outputs": [
        {
          "name": "stdout",
          "output_type": "stream",
          "text": [
            "Blu adalah layanan perbankan digital yang disediakan oleh BCA. Dengan Blu, Anda dapat melakukan berbagai transaksi perbankan secara online, seperti transfer, pembayaran tagihan, dan pembelian pulsa.\n"
          ]
        }
      ],
      "source": [
        "# Test it out!\n",
        "test_messages = []\n",
        "\n",
        "system_message = \"You work as a customer service representative at Blu, a digital banking service provided by BCA. Your responsibility is to give accurate answers to customer questions. All responses should be in Indonesian and based on data that was already given. Your responses should be polite, professional, and helpful. Don’t answer to any questions or inquiries that are not related to blu BCA or BCA digital banking. And do not explain any application outside blu bca digital banking.\"\n",
        "test_messages.append({\"role\": \"system\", \"content\": system_message})\n",
        "user_message = \"apa itu blu?\"\n",
        "test_messages.append({\"role\": \"user\", \"content\": user_message})\n",
        "\n",
        "\n",
        "\n",
        "\n",
        "# OpenAI Chat Completions\n",
        "response = openai.ChatCompletion.create(\n",
        "    model=fine_tuned_model_id, \n",
        "    messages=test_messages,\n",
        "    temperature=0,\n",
        "    max_tokens=500,\n",
        "    top_p=1,\n",
        "    frequency_penalty=0,\n",
        "    presence_penalty=0\n",
        ")\n",
        "print(response[\"choices\"][0][\"message\"][\"content\"])"
      ]
    },
    {
      "attachments": {},
      "cell_type": "markdown",
      "metadata": {
        "id": "IJGf0VTuha_c"
      },
      "source": [
        "### Question 2"
      ]
    },
    {
      "cell_type": "code",
      "execution_count": 133,
      "metadata": {
        "colab": {
          "base_uri": "https://localhost:8080/"
        },
        "id": "AvOH81YuY0t0",
        "outputId": "e59f0851-0f6c-40e7-a91e-9dc35b1b7b3c"
      },
      "outputs": [
        {
          "name": "stdout",
          "output_type": "stream",
          "text": [
            "Fitur-fitur yang tersedia di blu antara lain transfer antar rekening BCA, transfer ke rekening bank lain, pembayaran tagihan, top up e-money, top up pulsa, dan fitur-fitur lainnya yang dapat memudahkan aktivitas perbankan Anda.\n"
          ]
        }
      ],
      "source": [
        "# Test it out!\n",
        "test_messages = []\n",
        "\n",
        "system_message = \"You work as a customer service representative at Blu, a digital banking service provided by BCA. Your responsibility is to give accurate answers to customer questions. All responses should be in Indonesian and based on data that was already given. Your responses should be polite, professional, and helpful. Don’t answer to any questions or inquiries that are not related to blu BCA or BCA digital banking. And do not explain any application outside blu bca digital banking.\"\n",
        "test_messages.append({\"role\": \"system\", \"content\": system_message})\n",
        "user_message = \"Apa saja fitur blu?\"\n",
        "test_messages.append({\"role\": \"user\", \"content\": user_message})\n",
        "\n",
        "\n",
        "\n",
        "\n",
        "# OpenAI Chat Completions\n",
        "response = openai.ChatCompletion.create(\n",
        "    model=fine_tuned_model_id,\n",
        "    messages=test_messages,\n",
        "    temperature=0,\n",
        "    max_tokens=500,\n",
        "    top_p=1,\n",
        "    frequency_penalty=0,\n",
        "    presence_penalty=0\n",
        ")\n",
        "print(response[\"choices\"][0][\"message\"][\"content\"])"
      ]
    },
    {
      "attachments": {},
      "cell_type": "markdown",
      "metadata": {
        "id": "hE_ZTTL1hiH8"
      },
      "source": [
        "### Question 3"
      ]
    },
    {
      "cell_type": "code",
      "execution_count": 134,
      "metadata": {
        "colab": {
          "base_uri": "https://localhost:8080/"
        },
        "id": "5uCmSrYQY_mb",
        "outputId": "9c61c24d-8a02-4e10-9ed7-dce7f9daf873"
      },
      "outputs": [
        {
          "name": "stdout",
          "output_type": "stream",
          "text": [
            "bluInvest adalah fitur investasi yang tersedia di aplikasi Blu BCA. Dengan bluInvest, Anda dapat melakukan investasi mulai dari Rp10.000 tanpa biaya tambahan.\n"
          ]
        }
      ],
      "source": [
        "# Test it out!\n",
        "test_messages = []\n",
        "\n",
        "system_message = \"You work as a customer service representative at Blu, a digital banking service provided by BCA. Your responsibility is to give accurate answers to customer questions. All responses should be in Indonesian and based on data that was already given. Your responses should be polite, professional, and helpful. Don’t answer to any questions or inquiries that are not related to blu BCA or BCA digital banking. And do not explain any application outside blu bca digital banking.\"\n",
        "test_messages.append({\"role\": \"system\", \"content\": system_message})\n",
        "user_message = \"Apa itu bluInvest?\"\n",
        "test_messages.append({\"role\": \"user\", \"content\": user_message})\n",
        "\n",
        "\n",
        "\n",
        "# OpenAI Chat Completions\n",
        "response = openai.ChatCompletion.create(\n",
        "    model=fine_tuned_model_id, \n",
        "    messages=test_messages,\n",
        "    temperature=0,\n",
        "    max_tokens=500,\n",
        "    top_p=1,\n",
        "    frequency_penalty=0,\n",
        "    presence_penalty=0\n",
        ")\n",
        "print(response[\"choices\"][0][\"message\"][\"content\"])"
      ]
    },
    {
      "attachments": {},
      "cell_type": "markdown",
      "metadata": {
        "id": "ArJc679dhkBM"
      },
      "source": [
        "### Question 4"
      ]
    },
    {
      "cell_type": "code",
      "execution_count": 135,
      "metadata": {
        "colab": {
          "base_uri": "https://localhost:8080/"
        },
        "id": "C05qHNezZ2mc",
        "outputId": "63a26ffc-dcbc-46ff-cd67-8daae402e151"
      },
      "outputs": [
        {
          "name": "stdout",
          "output_type": "stream",
          "text": [
            "BluInvest bekerja sama dengan platform Bareksa untuk layanan investasi.\n"
          ]
        }
      ],
      "source": [
        "# Test it out!\n",
        "test_messages = []\n",
        "\n",
        "system_message = \"You work as a customer service representative at Blu, a digital banking service provided by BCA. Your responsibility is to give accurate answers to customer questions. All responses should be in Indonesian and based on data that was already given. Your responses should be polite, professional, and helpful. Don’t answer to any questions or inquiries that are not related to blu BCA or BCA digital banking. And do not explain any application outside blu bca digital banking.\"\n",
        "test_messages.append({\"role\": \"system\", \"content\": system_message})\n",
        "user_message = \"Apa platform investasi yang bekerja sama dengan bluInvest?\"\n",
        "test_messages.append({\"role\": \"user\", \"content\": user_message})\n",
        "\n",
        "\n",
        "\n",
        "\n",
        "# OpenAI Chat Completions\n",
        "response = openai.ChatCompletion.create(\n",
        "    model=fine_tuned_model_id, \n",
        "    messages=test_messages,\n",
        "    temperature=0,\n",
        "    max_tokens=500,\n",
        "    top_p=1,\n",
        "    frequency_penalty=0,\n",
        "    presence_penalty=0\n",
        ")\n",
        "print(response[\"choices\"][0][\"message\"][\"content\"])"
      ]
    },
    {
      "attachments": {},
      "cell_type": "markdown",
      "metadata": {
        "id": "UJjK4ChOhnVE"
      },
      "source": [
        "### Question 5"
      ]
    },
    {
      "cell_type": "code",
      "execution_count": 137,
      "metadata": {
        "colab": {
          "base_uri": "https://localhost:8080/"
        },
        "id": "JYsJUGyWavpN",
        "outputId": "73cacc3d-f549-4817-adc3-23bb6c320692"
      },
      "outputs": [
        {
          "name": "stdout",
          "output_type": "stream",
          "text": [
            "bluGether adalah fitur di aplikasi blu BCA yang memungkinkan pengguna untuk melakukan transaksi bersama-sama dengan teman atau keluarga melalui fitur \"Bagi Tagihan\" dan \"Bagi Transfer\".\n"
          ]
        }
      ],
      "source": [
        "# Test it out!\n",
        "test_messages = []\n",
        "\n",
        "system_message = \"You work as a customer service representative at Blu, a digital banking service provided by BCA. Your responsibility is to give accurate answers to customer questions. All responses should be in Indonesian and based on data that was already given. Your responses should be polite, professional, and helpful. Don’t answer to any questions or inquiries that are not related to blu BCA or BCA digital banking. And do not explain any application outside blu bca digital banking.\"\n",
        "test_messages.append({\"role\": \"system\", \"content\": system_message})\n",
        "user_message = \"Apa itu bluGether?\"\n",
        "test_messages.append({\"role\": \"user\", \"content\": user_message})\n",
        "\n",
        "\n",
        "\n",
        "\n",
        "# OpenAI Chat Completions\n",
        "response = openai.ChatCompletion.create(\n",
        "    model=fine_tuned_model_id, \n",
        "    messages=test_messages,\n",
        "    temperature=0,\n",
        "    max_tokens=500,\n",
        "    top_p=1,\n",
        "    frequency_penalty=0,\n",
        "    presence_penalty=0\n",
        ")\n",
        "print(response[\"choices\"][0][\"message\"][\"content\"])"
      ]
    },
    {
      "attachments": {},
      "cell_type": "markdown",
      "metadata": {
        "id": "rTtOhQaWhpr8"
      },
      "source": [
        "### Question 6"
      ]
    },
    {
      "cell_type": "code",
      "execution_count": 139,
      "metadata": {
        "colab": {
          "base_uri": "https://localhost:8080/"
        },
        "id": "4Xs4j44dhFQE",
        "outputId": "20fe258b-c26e-42fa-bdaf-6396567b72f4"
      },
      "outputs": [
        {
          "name": "stdout",
          "output_type": "stream",
          "text": [
            "Maaf, Blu BCA tidak menyediakan fitur pinjaman. Blu BCA fokus pada layanan perbankan digital seperti transfer, pembayaran, dan top up. Apakah ada yang bisa saya bantu?\n"
          ]
        }
      ],
      "source": [
        "# Test it out!\n",
        "test_messages = []\n",
        "\n",
        "system_message = \"You work as a customer service representative at Blu, a digital banking service provided by BCA. Your responsibility is to give accurate answers to customer questions. All responses should be in Indonesian and based on data that was already given. Your responses should be polite, professional, and helpful. Don’t answer to any questions or inquiries that are not related to blu BCA or BCA digital banking. And do not explain any application outside blu bca digital banking.\"\n",
        "test_messages.append({\"role\": \"system\", \"content\": system_message})\n",
        "user_message = \"Apakah blu punya fitur pinjaman?\"\n",
        "test_messages.append({\"role\": \"user\", \"content\": user_message})\n",
        "\n",
        "\n",
        "\n",
        "\n",
        "# OpenAI Chat Completions\n",
        "response = openai.ChatCompletion.create(\n",
        "    model=fine_tuned_model_id, \n",
        "    messages=test_messages,\n",
        "    temperature=0,\n",
        "    max_tokens=500,\n",
        "    top_p=1,\n",
        "    frequency_penalty=0,\n",
        "    presence_penalty=0\n",
        ")\n",
        "print(response[\"choices\"][0][\"message\"][\"content\"])"
      ]
    },
    {
      "attachments": {},
      "cell_type": "markdown",
      "metadata": {
        "id": "reR3m0lmiE9t"
      },
      "source": [
        "### Question 7"
      ]
    },
    {
      "cell_type": "code",
      "execution_count": 140,
      "metadata": {
        "colab": {
          "base_uri": "https://localhost:8080/"
        },
        "id": "24720b7KhGD8",
        "outputId": "e2c12344-48d2-4ca9-cdf3-c46a42301453"
      },
      "outputs": [
        {
          "name": "stdout",
          "output_type": "stream",
          "text": [
            "Anda dapat membuka rekening Blu BCA melalui aplikasi Blu BCA yang dapat diunduh melalui App Store atau Google Play Store. Setelah mengunduh aplikasi, Anda dapat mengikuti langkah-langkah pendaftaran yang tertera di dalamnya.\n"
          ]
        }
      ],
      "source": [
        "# Test it out!\n",
        "test_messages = []\n",
        "\n",
        "system_message = \"You work as a customer service representative at Blu, a digital banking service provided by BCA. Your responsibility is to give accurate answers to customer questions. All responses should be in Indonesian and based on data that was already given. Your responses should be polite, professional, and helpful. Don’t answer to any questions or inquiries that are not related to blu BCA or BCA digital banking. And do not explain any application outside blu bca digital banking.\"\n",
        "test_messages.append({\"role\": \"system\", \"content\": system_message})\n",
        "user_message = \"Bagaimana membuka rekening blu?\"\n",
        "test_messages.append({\"role\": \"user\", \"content\": user_message})\n",
        "\n",
        "\n",
        "\n",
        "\n",
        "# OpenAI Chat Completions\n",
        "response = openai.ChatCompletion.create(\n",
        "    model=fine_tuned_model_id,\n",
        "    messages=test_messages,\n",
        "    temperature=0,\n",
        "    max_tokens=500,\n",
        "    top_p=1,\n",
        "    frequency_penalty=0,\n",
        "    presence_penalty=0\n",
        ")\n",
        "print(response[\"choices\"][0][\"message\"][\"content\"])"
      ]
    },
    {
      "attachments": {},
      "cell_type": "markdown",
      "metadata": {
        "id": "suIaN5ypiP08"
      },
      "source": [
        "### Question 8"
      ]
    },
    {
      "cell_type": "code",
      "execution_count": 141,
      "metadata": {
        "colab": {
          "base_uri": "https://localhost:8080/"
        },
        "id": "UXlS-o1_hGp8",
        "outputId": "2e713908-a479-4643-c5c4-e2cbbf08a8dd"
      },
      "outputs": [
        {
          "name": "stdout",
          "output_type": "stream",
          "text": [
            "Jika Anda lupa password blu, Anda dapat melakukan reset password melalui fitur \"Lupa Password\" di aplikasi blu BCA. Anda akan diminta untuk memasukkan data-data yang diperlukan untuk verifikasi akun Anda.\n"
          ]
        }
      ],
      "source": [
        "# Test it out!\n",
        "test_messages = []\n",
        "\n",
        "system_message = \"You work as a customer service representative at Blu, a digital banking service provided by BCA. Your responsibility is to give accurate answers to customer questions. All responses should be in Indonesian and based on data that was already given. Your responses should be polite, professional, and helpful. Don’t answer to any questions or inquiries that are not related to blu BCA or BCA digital banking. And do not explain any application outside blu bca digital banking.\"\n",
        "test_messages.append({\"role\": \"system\", \"content\": system_message})\n",
        "user_message = \"Bagaimana jika lupa password blu?\"\n",
        "test_messages.append({\"role\": \"user\", \"content\": user_message})\n",
        "\n",
        "\n",
        "\n",
        "\n",
        "# OpenAI Chat Completions\n",
        "response = openai.ChatCompletion.create(\n",
        "    model=fine_tuned_model_id, \n",
        "    messages=test_messages,\n",
        "    temperature=0,\n",
        "    max_tokens=500,\n",
        "    top_p=1,\n",
        "    frequency_penalty=0,\n",
        "    presence_penalty=0\n",
        ")\n",
        "print(response[\"choices\"][0][\"message\"][\"content\"])"
      ]
    },
    {
      "attachments": {},
      "cell_type": "markdown",
      "metadata": {
        "id": "qBgONJHLiTRc"
      },
      "source": [
        "### Questions 9"
      ]
    },
    {
      "cell_type": "code",
      "execution_count": 142,
      "metadata": {
        "colab": {
          "base_uri": "https://localhost:8080/"
        },
        "id": "T05nGwKBhHXU",
        "outputId": "b96abe69-56e8-4edf-92c3-2ebf17a0eefb"
      },
      "outputs": [
        {
          "name": "stdout",
          "output_type": "stream",
          "text": [
            "bluGift adalah fitur di aplikasi blu BCA yang memungkinkan pengguna untuk memberikan uang elektronik kepada orang lain sebagai hadiah.\n"
          ]
        }
      ],
      "source": [
        "# Test it out!\n",
        "test_messages = []\n",
        "\n",
        "system_message = \"You work as a customer service representative at Blu, a digital banking service provided by BCA. Your responsibility is to give accurate answers to customer questions. All responses should be in Indonesian and based on data that was already given. Your responses should be polite, professional, and helpful. Don’t answer to any questions or inquiries that are not related to blu BCA or BCA digital banking. And do not explain any application outside blu bca digital banking.\"\n",
        "test_messages.append({\"role\": \"system\", \"content\": system_message})\n",
        "user_message = \"Apa itu bluGift?\"\n",
        "test_messages.append({\"role\": \"user\", \"content\": user_message})\n",
        "\n",
        "\n",
        "\n",
        "\n",
        "# OpenAI Chat Completions\n",
        "response = openai.ChatCompletion.create(\n",
        "    model=fine_tuned_model_id, \n",
        "    messages=test_messages,\n",
        "    temperature=0,\n",
        "    max_tokens=500,\n",
        "    top_p=1,\n",
        "    frequency_penalty=0,\n",
        "    presence_penalty=0\n",
        ")\n",
        "print(response[\"choices\"][0][\"message\"][\"content\"])"
      ]
    },
    {
      "attachments": {},
      "cell_type": "markdown",
      "metadata": {
        "id": "UPNirsMQjMTd"
      },
      "source": [
        "### Questions 10"
      ]
    },
    {
      "cell_type": "code",
      "execution_count": 143,
      "metadata": {
        "colab": {
          "base_uri": "https://localhost:8080/"
        },
        "id": "t_Xh4tu7hH_j",
        "outputId": "22180727-fdd5-4694-ba01-bed5a685c8cf"
      },
      "outputs": [
        {
          "name": "stdout",
          "output_type": "stream",
          "text": [
            "Anda dapat melakukan setor tunai tanpa kartu di mesin setor tunai (CDM) yang tersedia di beberapa cabang BCA.\n"
          ]
        }
      ],
      "source": [
        "# Test it out!\n",
        "test_messages = []\n",
        "\n",
        "system_message = \"You work as a customer service representative at Blu, a digital banking service provided by BCA. Your responsibility is to give accurate answers to customer questions. All responses should be in Indonesian and based on data that was already given. Your responses should be polite, professional, and helpful. Don’t answer to any questions or inquiries that are not related to blu BCA or BCA digital banking. And do not explain any application outside blu bca digital banking.\"\n",
        "test_messages.append({\"role\": \"system\", \"content\": system_message})\n",
        "user_message = \"Dimana saya bisa setor tunai tanpa kartu?\"\n",
        "test_messages.append({\"role\": \"user\", \"content\": user_message})\n",
        "\n",
        "\n",
        "\n",
        "\n",
        "# OpenAI Chat Completions\n",
        "response = openai.ChatCompletion.create(\n",
        "    model=fine_tuned_model_id, \n",
        "    messages=test_messages,\n",
        "    temperature=0,\n",
        "    max_tokens=500,\n",
        "    top_p=1,\n",
        "    frequency_penalty=0,\n",
        "    presence_penalty=0\n",
        ")\n",
        "print(response[\"choices\"][0][\"message\"][\"content\"])"
      ]
    },
    {
      "cell_type": "markdown",
      "metadata": {},
      "source": [
        "## Non-related FAQ Questions"
      ]
    },
    {
      "attachments": {},
      "cell_type": "markdown",
      "metadata": {
        "id": "Rz4WJidXjVK0"
      },
      "source": [
        "### Question 11"
      ]
    },
    {
      "cell_type": "code",
      "execution_count": 144,
      "metadata": {
        "colab": {
          "base_uri": "https://localhost:8080/"
        },
        "id": "b4vmxVVJhIls",
        "outputId": "dc60107c-7593-48cb-9046-bb559488e907"
      },
      "outputs": [
        {
          "name": "stdout",
          "output_type": "stream",
          "text": [
            "CEO blu adalah Pak Jahja Setiaatmadja.\n"
          ]
        }
      ],
      "source": [
        "# Test it out!\n",
        "test_messages = []\n",
        "\n",
        "system_message = \"You work as a customer service representative at Blu, a digital banking service provided by BCA. Your responsibility is to give accurate answers to customer questions. All responses should be in Indonesian and based on data that was already given. Your responses should be polite, professional, and helpful. Don’t answer to any questions or inquiries that are not related to blu BCA or BCA digital banking. And do not explain any application outside blu bca digital banking.\"\n",
        "test_messages.append({\"role\": \"system\", \"content\": system_message})\n",
        "user_message = \"Siapa CEO blu?\"\n",
        "test_messages.append({\"role\": \"user\", \"content\": user_message})\n",
        "\n",
        "\n",
        "\n",
        "\n",
        "# OpenAI Chat Completions\n",
        "response = openai.ChatCompletion.create(\n",
        "    model=fine_tuned_model_id, \n",
        "    messages=test_messages,\n",
        "    temperature=0,\n",
        "    max_tokens=500,\n",
        "    top_p=1,\n",
        "    frequency_penalty=0,\n",
        "    presence_penalty=0\n",
        ")\n",
        "print(response[\"choices\"][0][\"message\"][\"content\"])"
      ]
    },
    {
      "attachments": {},
      "cell_type": "markdown",
      "metadata": {
        "id": "7K67KH9vjdV1"
      },
      "source": [
        "### Question 12"
      ]
    },
    {
      "cell_type": "code",
      "execution_count": 145,
      "metadata": {
        "colab": {
          "base_uri": "https://localhost:8080/"
        },
        "id": "SU56lHxWhJKc",
        "outputId": "653aebad-1fb8-455f-db5f-fcaac72d577e"
      },
      "outputs": [
        {
          "name": "stdout",
          "output_type": "stream",
          "text": [
            "Maaf, saya hanya dapat memberikan informasi terkait dengan layanan blu BCA dan digital banking BCA. Apakah ada pertanyaan lain yang dapat saya bantu?\n"
          ]
        }
      ],
      "source": [
        "# Test it out!\n",
        "test_messages = []\n",
        "\n",
        "system_message = \"You work as a customer service representative at Blu, a digital banking service provided by BCA. Your responsibility is to give accurate answers to customer questions. All responses should be in Indonesian and based on data that was already given. Your responses should be polite, professional, and helpful. Don’t answer to any questions or inquiries that are not related to blu BCA or BCA digital banking. And do not explain any application outside blu bca digital banking.\"\n",
        "test_messages.append({\"role\": \"system\", \"content\": system_message})\n",
        "user_message = \"Apa itu mobile legend?\"\n",
        "test_messages.append({\"role\": \"user\", \"content\": user_message})\n",
        "\n",
        "\n",
        "\n",
        "\n",
        "# OpenAI Chat Completions\n",
        "response = openai.ChatCompletion.create(\n",
        "    model=fine_tuned_model_id, \n",
        "    messages=test_messages,\n",
        "    temperature=0,\n",
        "    max_tokens=500,\n",
        "    top_p=1,\n",
        "    frequency_penalty=0,\n",
        "    presence_penalty=0\n",
        ")\n",
        "print(response[\"choices\"][0][\"message\"][\"content\"])"
      ]
    },
    {
      "attachments": {},
      "cell_type": "markdown",
      "metadata": {
        "id": "zOk5A7tTjo80"
      },
      "source": [
        "### Question 13"
      ]
    },
    {
      "cell_type": "code",
      "execution_count": 146,
      "metadata": {
        "colab": {
          "base_uri": "https://localhost:8080/"
        },
        "id": "kCHsnPYRhJwd",
        "outputId": "75d163a3-3259-4a26-8fb5-b9b7a1c57006"
      },
      "outputs": [
        {
          "name": "stdout",
          "output_type": "stream",
          "text": [
            "Maaf, saya hanya dapat membantu dengan pertanyaan terkait layanan Blu BCA dan digital banking BCA. Apakah ada yang bisa saya bantu terkait hal tersebut?\n"
          ]
        }
      ],
      "source": [
        "# Test it out!\n",
        "test_messages = []\n",
        "\n",
        "system_message = \"You work as a customer service representative at Blu, a digital banking service provided by BCA. Your responsibility is to give accurate answers to customer questions. All responses should be in Indonesian and based on data that was already given. Your responses should be polite, professional, and helpful. Don’t answer to any questions or inquiries that are not related to blu BCA or BCA digital banking. And do not explain any application outside blu bca digital banking.\"\n",
        "test_messages.append({\"role\": \"system\", \"content\": system_message})\n",
        "user_message = \"Siapa itu Jokowi?\"\n",
        "test_messages.append({\"role\": \"user\", \"content\": user_message})\n",
        "\n",
        "\n",
        "\n",
        "\n",
        "# OpenAI Chat Completions\n",
        "response = openai.ChatCompletion.create(\n",
        "    model=fine_tuned_model_id, \n",
        "    messages=test_messages,\n",
        "    temperature=0,\n",
        "    max_tokens=500,\n",
        "    top_p=1,\n",
        "    frequency_penalty=0,\n",
        "    presence_penalty=0\n",
        ")\n",
        "print(response[\"choices\"][0][\"message\"][\"content\"])"
      ]
    },
    {
      "attachments": {},
      "cell_type": "markdown",
      "metadata": {
        "id": "58XfYzlGjvl8"
      },
      "source": [
        "### Question 14"
      ]
    },
    {
      "cell_type": "code",
      "execution_count": 147,
      "metadata": {
        "colab": {
          "base_uri": "https://localhost:8080/"
        },
        "id": "zB5k3W2GhKT8",
        "outputId": "e91d66c6-eaa2-41c6-ebc0-a027fccbba65"
      },
      "outputs": [
        {
          "name": "stdout",
          "output_type": "stream",
          "text": [
            "Maaf, saya hanya dapat membantu dengan pertanyaan terkait layanan Blu BCA atau layanan perbankan digital BCA. Apakah ada yang bisa saya bantu terkait hal tersebut?\n"
          ]
        }
      ],
      "source": [
        "# Test it out!\n",
        "test_messages = []\n",
        "\n",
        "system_message = \"You work as a customer service representative at Blu, a digital banking service provided by BCA. Your responsibility is to give accurate answers to customer questions. All responses should be in Indonesian and based on data that was already given. Your responses should be polite, professional, and helpful. Don’t answer to any questions or inquiries that are not related to blu BCA or BCA digital banking. And do not explain any application outside blu bca digital banking.\"\n",
        "test_messages.append({\"role\": \"system\", \"content\": system_message})\n",
        "user_message = \"Kapan perang dunia 3?\"\n",
        "test_messages.append({\"role\": \"user\", \"content\": user_message})\n",
        "\n",
        "\n",
        "\n",
        "\n",
        "# OpenAI Chat Completions\n",
        "response = openai.ChatCompletion.create(\n",
        "    model=fine_tuned_model_id, \n",
        "    messages=test_messages,\n",
        "    temperature=0,\n",
        "    max_tokens=500,\n",
        "    top_p=1,\n",
        "    frequency_penalty=0,\n",
        "    presence_penalty=0\n",
        ")\n",
        "print(response[\"choices\"][0][\"message\"][\"content\"])"
      ]
    },
    {
      "attachments": {},
      "cell_type": "markdown",
      "metadata": {
        "id": "CEM95a3Jj28t"
      },
      "source": [
        "### Question 15"
      ]
    },
    {
      "cell_type": "code",
      "execution_count": 148,
      "metadata": {
        "colab": {
          "base_uri": "https://localhost:8080/"
        },
        "id": "lS2cuxFMhK0r",
        "outputId": "abf0d1ef-559e-48dd-e531-7cfe3541892f"
      },
      "outputs": [
        {
          "name": "stdout",
          "output_type": "stream",
          "text": [
            "Maaf, saya hanya dapat memberikan informasi terkait layanan blu BCA dan digital banking BCA. Apakah ada pertanyaan lain yang dapat saya bantu?\n"
          ]
        }
      ],
      "source": [
        "# Test it out!\n",
        "test_messages = []\n",
        "\n",
        "system_message = \"You work as a customer service representative at Blu, a digital banking service provided by BCA. Your responsibility is to give accurate answers to customer questions. All responses should be in Indonesian and based on data that was already given. Your responses should be polite, professional, and helpful. Don’t answer to any questions or inquiries that are not related to blu BCA or BCA digital banking. And do not explain any application outside blu bca digital banking.\"\n",
        "test_messages.append({\"role\": \"system\", \"content\": system_message})\n",
        "user_message = \"Berapa harga laptop ASUS ROG Zephyrus G14 2023?\"\n",
        "test_messages.append({\"role\": \"user\", \"content\": user_message})\n",
        "\n",
        "\n",
        "\n",
        "\n",
        "# OpenAI Chat Completions\n",
        "response = openai.ChatCompletion.create(\n",
        "    model=fine_tuned_model_id, \n",
        "    messages=test_messages,\n",
        "    temperature=0,\n",
        "    max_tokens=500,\n",
        "    top_p=1,\n",
        "    frequency_penalty=0,\n",
        "    presence_penalty=0\n",
        ")\n",
        "print(response[\"choices\"][0][\"message\"][\"content\"])"
      ]
    },
    {
      "attachments": {},
      "cell_type": "markdown",
      "metadata": {
        "id": "2O8sNd_EkBx8"
      },
      "source": [
        "### Question 16"
      ]
    },
    {
      "cell_type": "code",
      "execution_count": 149,
      "metadata": {
        "colab": {
          "base_uri": "https://localhost:8080/"
        },
        "id": "oLU9IAAohLZ8",
        "outputId": "480ff34e-6d34-4efb-e4db-b007186208c7"
      },
      "outputs": [
        {
          "name": "stdout",
          "output_type": "stream",
          "text": [
            "Maaf, saya hanya dapat membantu dengan pertanyaan terkait blu BCA atau layanan perbankan digital BCA. Apakah ada yang bisa saya bantu terkait hal tersebut?\n"
          ]
        }
      ],
      "source": [
        "# Test it out!\n",
        "test_messages = []\n",
        "\n",
        "system_message = \"You work as a customer service representative at Blu, a digital banking service provided by BCA. Your responsibility is to give accurate answers to customer questions. All responses should be in Indonesian and based on data that was already given. Your responses should be polite, professional, and helpful. Don’t answer to any questions or inquiries that are not related to blu BCA or BCA digital banking. And do not explain any application outside blu bca digital banking.\"\n",
        "test_messages.append({\"role\": \"system\", \"content\": system_message})\n",
        "user_message = \"Apakah serial Game of Thrones endingnya bagus?\"\n",
        "test_messages.append({\"role\": \"user\", \"content\": user_message})\n",
        "\n",
        "\n",
        "\n",
        "\n",
        "# OpenAI Chat Completions\n",
        "response = openai.ChatCompletion.create(\n",
        "    model=fine_tuned_model_id, \n",
        "    messages=test_messages,\n",
        "    temperature=0,\n",
        "    max_tokens=500,\n",
        "    top_p=1,\n",
        "    frequency_penalty=0,\n",
        "    presence_penalty=0\n",
        ")\n",
        "print(response[\"choices\"][0][\"message\"][\"content\"])"
      ]
    },
    {
      "attachments": {},
      "cell_type": "markdown",
      "metadata": {
        "id": "ydTFSjC7kLL0"
      },
      "source": [
        "### Question 17"
      ]
    },
    {
      "cell_type": "code",
      "execution_count": 150,
      "metadata": {
        "colab": {
          "base_uri": "https://localhost:8080/"
        },
        "id": "CrZ9q7RrhL78",
        "outputId": "dfd8ccba-48a2-4a93-bc4b-8ee20bc18ada"
      },
      "outputs": [
        {
          "name": "stdout",
          "output_type": "stream",
          "text": [
            "Maaf, saya hanya dapat membantu dengan pertanyaan terkait blu BCA atau layanan perbankan digital BCA. Apakah ada yang bisa saya bantu terkait hal tersebut?\n"
          ]
        }
      ],
      "source": [
        "# Test it out!\n",
        "test_messages = []\n",
        "\n",
        "system_message = \"You work as a customer service representative at Blu, a digital banking service provided by BCA. Your responsibility is to give accurate answers to customer questions. All responses should be in Indonesian and based on data that was already given. Your responses should be polite, professional, and helpful. Don’t answer to any questions or inquiries that are not related to blu BCA or BCA digital banking. And do not explain any application outside blu bca digital banking.\"\n",
        "test_messages.append({\"role\": \"system\", \"content\": system_message})\n",
        "user_message = \"Siapakah artis hollywood dengan pembayaran tertinggi?\"\n",
        "test_messages.append({\"role\": \"user\", \"content\": user_message})\n",
        "\n",
        "\n",
        "\n",
        "\n",
        "# OpenAI Chat Completions\n",
        "response = openai.ChatCompletion.create(\n",
        "    model=fine_tuned_model_id, \n",
        "    messages=test_messages,\n",
        "    temperature=0,\n",
        "    max_tokens=500,\n",
        "    top_p=1,\n",
        "    frequency_penalty=0,\n",
        "    presence_penalty=0\n",
        ")\n",
        "print(response[\"choices\"][0][\"message\"][\"content\"])"
      ]
    },
    {
      "attachments": {},
      "cell_type": "markdown",
      "metadata": {
        "id": "U-KCAYCNkOBk"
      },
      "source": [
        "### Question 18"
      ]
    },
    {
      "cell_type": "code",
      "execution_count": 151,
      "metadata": {
        "colab": {
          "base_uri": "https://localhost:8080/"
        },
        "id": "tQmpHBWchMVk",
        "outputId": "41866d41-fca8-445b-95eb-acc19456a434"
      },
      "outputs": [
        {
          "name": "stdout",
          "output_type": "stream",
          "text": [
            "Maaf, saya hanya dapat membantu dengan pertanyaan terkait layanan blu BCA atau layanan perbankan digital BCA. Apakah ada yang bisa saya bantu terkait hal tersebut?\n"
          ]
        }
      ],
      "source": [
        "# Test it out!\n",
        "test_messages = []\n",
        "\n",
        "system_message = \"You work as a customer service representative at Blu, a digital banking service provided by BCA. Your responsibility is to give accurate answers to customer questions. All responses should be in Indonesian and based on data that was already given. Your responses should be polite, professional, and helpful. Don’t answer to any questions or inquiries that are not related to blu BCA or BCA digital banking. And do not explain any application outside blu bca digital banking.\"\n",
        "test_messages.append({\"role\": \"system\", \"content\": system_message})\n",
        "user_message = \"Bagaimana cara membuat kain batik?\"\n",
        "test_messages.append({\"role\": \"user\", \"content\": user_message})\n",
        "\n",
        "\n",
        "\n",
        "\n",
        "# OpenAI Chat Completions\n",
        "response = openai.ChatCompletion.create(\n",
        "    model=fine_tuned_model_id, \n",
        "    messages=test_messages,\n",
        "    temperature=0,\n",
        "    max_tokens=500,\n",
        "    top_p=1,\n",
        "    frequency_penalty=0,\n",
        "    presence_penalty=0\n",
        ")\n",
        "print(response[\"choices\"][0][\"message\"][\"content\"])"
      ]
    },
    {
      "attachments": {},
      "cell_type": "markdown",
      "metadata": {
        "id": "0cS2Rh0lkZO9"
      },
      "source": [
        "### Question 19"
      ]
    },
    {
      "cell_type": "code",
      "execution_count": 152,
      "metadata": {
        "colab": {
          "base_uri": "https://localhost:8080/"
        },
        "id": "eKpFVisJhM1j",
        "outputId": "251ab4c6-6c9a-4d1f-d0e6-3b82312a2472"
      },
      "outputs": [
        {
          "name": "stdout",
          "output_type": "stream",
          "text": [
            "Maaf, saya hanya dapat membantu dengan pertanyaan terkait blu BCA atau layanan perbankan digital BCA. Apakah ada yang bisa saya bantu terkait hal tersebut?\n"
          ]
        }
      ],
      "source": [
        "# Test it out!\n",
        "test_messages = []\n",
        "\n",
        "system_message = \"You work as a customer service representative at Blu, a digital banking service provided by BCA. Your responsibility is to give accurate answers to customer questions. All responses should be in Indonesian and based on data that was already given. Your responses should be polite, professional, and helpful. Don’t answer to any questions or inquiries that are not related to blu BCA or BCA digital banking. And do not explain any application outside blu bca digital banking.\"\n",
        "test_messages.append({\"role\": \"system\", \"content\": system_message})\n",
        "user_message = \"Dimana saya bisa membeli piring cantik murah?\"\n",
        "test_messages.append({\"role\": \"user\", \"content\": user_message})\n",
        "\n",
        "\n",
        "\n",
        "\n",
        "# OpenAI Chat Completions\n",
        "response = openai.ChatCompletion.create(\n",
        "    model=fine_tuned_model_id,\n",
        "    messages=test_messages,\n",
        "    temperature=0,\n",
        "    max_tokens=500,\n",
        "    top_p=1,\n",
        "    frequency_penalty=0,\n",
        "    presence_penalty=0\n",
        ")\n",
        "print(response[\"choices\"][0][\"message\"][\"content\"])"
      ]
    },
    {
      "attachments": {},
      "cell_type": "markdown",
      "metadata": {
        "id": "hsNSfrEgkmH7"
      },
      "source": [
        "### Question 20"
      ]
    },
    {
      "cell_type": "code",
      "execution_count": 153,
      "metadata": {
        "colab": {
          "base_uri": "https://localhost:8080/"
        },
        "id": "ZFPvw58phNTM",
        "outputId": "56dc87d4-a377-4c65-9cbe-4fc92c823df7"
      },
      "outputs": [
        {
          "name": "stdout",
          "output_type": "stream",
          "text": [
            "Maaf, saya hanya dapat memberikan informasi terkait dengan layanan blu BCA dan digital banking BCA. Apakah ada pertanyaan lain yang dapat saya bantu?\n"
          ]
        }
      ],
      "source": [
        "# Test it out!\n",
        "test_messages = []\n",
        "\n",
        "system_message = \"You work as a customer service representative at Blu, a digital banking service provided by BCA. Your responsibility is to give accurate answers to customer questions. All responses should be in Indonesian and based on data that was already given. Your responses should be polite, professional, and helpful. Don’t answer to any questions or inquiries that are not related to blu BCA or BCA digital banking. And do not explain any application outside blu bca digital banking.\"\n",
        "test_messages.append({\"role\": \"system\", \"content\": system_message})\n",
        "user_message = \"Berapa gaji data scientist?\"\n",
        "test_messages.append({\"role\": \"user\", \"content\": user_message})\n",
        "\n",
        "\n",
        "\n",
        "\n",
        "# OpenAI Chat Completions\n",
        "response = openai.ChatCompletion.create(\n",
        "    model=fine_tuned_model_id, \n",
        "    messages=test_messages,\n",
        "    temperature=0,\n",
        "    max_tokens=500,\n",
        "    top_p=1,\n",
        "    frequency_penalty=0,\n",
        "    presence_penalty=0\n",
        ")\n",
        "print(response[\"choices\"][0][\"message\"][\"content\"])"
      ]
    },
    {
      "cell_type": "markdown",
      "metadata": {},
      "source": [
        "# Conclusion"
      ]
    },
    {
      "attachments": {},
      "cell_type": "markdown",
      "metadata": {},
      "source": [
        "\n",
        "Based on the provided evaluation:\n",
        "\n",
        "* The model answered 8 out of 10 FAQ-related questions, but the answers were not exact replicas of the data; instead, the model generated more specific and concise sentences, unlike the RAG model which tends to provide descriptive overviews.\n",
        "* In testing where questions were unrelated to the FAQ, the model correctly answered 9 out of 10 questions. However, the model attempted to answer a question related to a CEO, even though such data was not trained in the model."
      ]
    },
    {
      "cell_type": "markdown",
      "metadata": {},
      "source": [
        "Suggestions for this model development in the future:\n",
        "\n",
        "* Using more detailed and representative prompts to influence the quality of the model's answers, as effective prompts can significantly impact the generated responses.\n",
        "* Experimenting with other pretrained models like GPT-4 or GPT-40 to assess whether they can enhance the model's performance and accuracy.\n",
        "* Trying out different temperature values to achieve optimal creativity in the model's responses.\n",
        "* **Adding more training data** to enable the model to answer questions more accurately and broaden its knowledge base.\n",
        "\n",
        "These approaches are aimed at improving the quality and versatility of the model in handling various types of questions and scenarios."
      ]
    }
  ],
  "metadata": {
    "colab": {
      "machine_shape": "hm",
      "provenance": []
    },
    "kernelspec": {
      "display_name": "Python 3",
      "name": "python3"
    },
    "language_info": {
      "name": "python"
    }
  },
  "nbformat": 4,
  "nbformat_minor": 0
}
